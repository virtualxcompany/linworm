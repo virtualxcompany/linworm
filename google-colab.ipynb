{
  "nbformat": 4,
  "nbformat_minor": 0,
  "metadata": {
    "colab": {
      "provenance": []
    },
    "kernelspec": {
      "name": "python3",
      "display_name": "Python 3"
    },
    "language_info": {
      "name": "python"
    }
  },
  "cells": [
    {
      "cell_type": "code",
      "execution_count": 1,
      "metadata": {
        "colab": {
          "base_uri": "https://localhost:8080/"
        },
        "id": "vAVqJiXcCBrV",
        "outputId": "15879d5c-e3ee-45b4-8eaa-67a92586f570"
      },
      "outputs": [
        {
          "output_type": "stream",
          "name": "stdout",
          "text": [
            "\u001b[1minfo:\u001b[0m downloading installer\n",
            "\u001b[0m\u001b[1m\u001b[33mwarn: \u001b[0mIt looks like you have an existing rustup settings file at:\n",
            "\u001b[0m\u001b[1m\u001b[33mwarn: \u001b[0m/root/.rustup/settings.toml\n",
            "\u001b[0m\u001b[1m\u001b[33mwarn: \u001b[0mRustup will install the default toolchain as specified in the settings file,\n",
            "\u001b[0m\u001b[1m\u001b[33mwarn: \u001b[0minstead of the one inferred from the default host triple.\n",
            "\u001b[0m\u001b[1minfo: \u001b[0mprofile set to 'default'\n",
            "\u001b[0m\u001b[1minfo: \u001b[0mdefault host triple is x86_64-unknown-linux-gnu\n",
            "\u001b[0m\u001b[1m\u001b[33mwarn: \u001b[0mUpdating existing toolchain, profile choice will be ignored\n",
            "\u001b[0m\u001b[1minfo: \u001b[0msyncing channel updates for 'stable-x86_64-unknown-linux-gnu'\n",
            "\u001b[0m\u001b[1minfo: \u001b[0mdefault toolchain set to 'stable-x86_64-unknown-linux-gnu'\n",
            "\n",
            "  \u001b[0m\u001b[1mstable-x86_64-unknown-linux-gnu unchanged\u001b[0m - rustc 1.89.0 (29483883e 2025-08-04)\n",
            "\n",
            "\u001b[0m\u001b[1m\n",
            "Rust is installed now. Great!\n",
            "\u001b[0m\n",
            "To get started you may need to restart your current shell.\n",
            "This would reload your \u001b[0m\u001b[1mPATH\u001b[0m environment variable to include\n",
            "Cargo's bin directory ($HOME/.cargo/bin).\n",
            "\n",
            "To configure your current shell, you need to source\n",
            "the corresponding \u001b[0m\u001b[1menv\u001b[0m file under $HOME/.cargo.\n",
            "\n",
            "This is usually done by running one of the following (note the leading DOT):\n",
            ". \"$HOME/.cargo/env\"            # For sh/bash/zsh/ash/dash/pdksh\n",
            "source \"$HOME/.cargo/env.fish\"  # For fish\n",
            "source $\"($nu.home-path)/.cargo/env.nu\"  # For nushell\n",
            "env: PATH=/root/.cargo/bin:/usr/local/sbin:/usr/local/bin:/usr/sbin:/usr/bin:/sbin:/bin\n"
          ]
        }
      ],
      "source": [
        "!curl --proto '=https' --tlsv1.2 -sSf https://sh.rustup.rs | sh -s -- -y\n",
        "!source $HOME/.cargo/env\n",
        "%env PATH=/root/.cargo/bin:/usr/local/sbin:/usr/local/bin:/usr/sbin:/usr/bin:/sbin:/bin"
      ]
    },
    {
      "cell_type": "code",
      "source": [
        "!source $HOME/.cargo/env\n",
        "!cargo --version\n",
        "!rustc --version\n"
      ],
      "metadata": {
        "colab": {
          "base_uri": "https://localhost:8080/"
        },
        "id": "RJXd6yMAEZiV",
        "outputId": "99f78717-347e-44a6-872f-e51f4e9af964"
      },
      "execution_count": 2,
      "outputs": [
        {
          "output_type": "stream",
          "name": "stdout",
          "text": [
            "cargo 1.89.0 (c24e10642 2025-06-23)\n",
            "rustc 1.89.0 (29483883e 2025-08-04)\n"
          ]
        }
      ]
    },
    {
      "cell_type": "code",
      "source": [
        "!apt-get update -y\n",
        "!apt-get install git -y"
      ],
      "metadata": {
        "id": "zHj4z_qcCYaT",
        "colab": {
          "base_uri": "https://localhost:8080/"
        },
        "outputId": "1251417d-3327-4c0a-a368-602a71ba2636"
      },
      "execution_count": 3,
      "outputs": [
        {
          "output_type": "stream",
          "name": "stdout",
          "text": [
            "\r0% [Working]\r            \rHit:1 http://security.ubuntu.com/ubuntu jammy-security InRelease\n",
            "\r0% [Connecting to archive.ubuntu.com (185.125.190.83)] [Connected to cloud.r-pr\r                                                                               \rHit:2 https://cloud.r-project.org/bin/linux/ubuntu jammy-cran40/ InRelease\n",
            "Hit:3 https://developer.download.nvidia.com/compute/cuda/repos/ubuntu2204/x86_64  InRelease\n",
            "Hit:4 http://archive.ubuntu.com/ubuntu jammy InRelease\n",
            "Hit:5 https://r2u.stat.illinois.edu/ubuntu jammy InRelease\n",
            "Hit:6 http://archive.ubuntu.com/ubuntu jammy-updates InRelease\n",
            "Hit:7 http://archive.ubuntu.com/ubuntu jammy-backports InRelease\n",
            "Hit:8 https://ppa.launchpadcontent.net/deadsnakes/ppa/ubuntu jammy InRelease\n",
            "Hit:9 https://ppa.launchpadcontent.net/graphics-drivers/ppa/ubuntu jammy InRelease\n",
            "Hit:10 https://ppa.launchpadcontent.net/ubuntugis/ppa/ubuntu jammy InRelease\n",
            "Reading package lists... Done\n",
            "W: Skipping acquire of configured file 'main/source/Sources' as repository 'https://r2u.stat.illinois.edu/ubuntu jammy InRelease' does not seem to provide it (sources.list entry misspelt?)\n",
            "Reading package lists... Done\n",
            "Building dependency tree... Done\n",
            "Reading state information... Done\n",
            "git is already the newest version (1:2.34.1-1ubuntu1.15).\n",
            "0 upgraded, 0 newly installed, 0 to remove and 35 not upgraded.\n"
          ]
        }
      ]
    },
    {
      "cell_type": "code",
      "metadata": {
        "colab": {
          "base_uri": "https://localhost:8080/"
        },
        "id": "b4f4816b",
        "outputId": "e10a0ea8-4703-4640-b416-3c047cad81bd"
      },
      "source": [
        "!git clone https://github.com/ByteJoseph/wormhole.git"
      ],
      "execution_count": 4,
      "outputs": [
        {
          "output_type": "stream",
          "name": "stdout",
          "text": [
            "fatal: destination path 'wormhole' already exists and is not an empty directory.\n"
          ]
        }
      ]
    },
    {
      "cell_type": "code",
      "metadata": {
        "colab": {
          "base_uri": "https://localhost:8080/"
        },
        "id": "d055eb5b",
        "outputId": "858c594b-d872-4c34-eae0-8486574be403"
      },
      "source": [
        "%cd wormhole"
      ],
      "execution_count": 5,
      "outputs": [
        {
          "output_type": "stream",
          "name": "stdout",
          "text": [
            "/content/wormhole\n"
          ]
        }
      ]
    },
    {
      "cell_type": "code",
      "source": [
        "!cargo build --release"
      ],
      "metadata": {
        "colab": {
          "base_uri": "https://localhost:8080/"
        },
        "id": "SiIn90gSC83_",
        "outputId": "bd1a7d83-9dfc-4807-83ca-be3c01b793ab"
      },
      "execution_count": 7,
      "outputs": [
        {
          "output_type": "stream",
          "name": "stdout",
          "text": [
            "\u001b[1m\u001b[33mwarning\u001b[0m\u001b[1m:\u001b[0m unused manifest key: package.author\n",
            "\u001b[1m\u001b[32m    Updating\u001b[0m crates.io index\n",
            "\u001b[1m\u001b[32m Downloading\u001b[0m crates ...\n",
            "\u001b[1m\u001b[32m  Downloaded\u001b[0m httpdate v1.0.3\n",
            "\u001b[1m\u001b[32m  Downloaded\u001b[0m byteorder v1.5.0\n",
            "\u001b[1m\u001b[32m  Downloaded\u001b[0m bytemuck v1.23.1\n",
            "\u001b[1m\u001b[32m  Downloaded\u001b[0m is_terminal_polyfill v1.70.1\n",
            "\u001b[1m\u001b[32m  Downloaded\u001b[0m serde_derive v1.0.219\n",
            "\u001b[1m\u001b[32m  Downloaded\u001b[0m rand_chacha v0.9.0\n",
            "\u001b[1m\u001b[32m  Downloaded\u001b[0m utf8parse v0.2.2\n",
            "\u001b[1m\u001b[32m  Downloaded\u001b[0m strsim v0.11.1\n",
            "\u001b[1m\u001b[32m  Downloaded\u001b[0m thiserror-impl v2.0.12\n",
            "\u001b[1m\u001b[32m  Downloaded\u001b[0m tiny_http v0.12.0\n",
            "\u001b[1m\u001b[32m  Downloaded\u001b[0m neli v0.6.5\n",
            "\u001b[1m\u001b[32m  Downloaded\u001b[0m zerocopy v0.8.26\n",
            "\u001b[1m\u001b[32m  Downloaded\u001b[0m syn v1.0.109\n",
            "\u001b[1m\u001b[32m  Downloaded\u001b[0m clap_builder v4.5.42\n",
            "\u001b[1m\u001b[32m  Downloaded\u001b[0m rand v0.9.2\n",
            "\u001b[1m\u001b[32m  Downloaded\u001b[0m proc-macro2 v1.0.95\n",
            "\u001b[1m\u001b[32m  Downloaded\u001b[0m num-traits v0.2.19\n",
            "\u001b[1m\u001b[32m  Downloaded\u001b[0m clap v4.5.42\n",
            "\u001b[1m\u001b[32m  Downloaded\u001b[0m chunked_transfer v1.5.0\n",
            "\u001b[1m\u001b[32m  Downloaded\u001b[0m serde v1.0.219\n",
            "\u001b[1m\u001b[32m  Downloaded\u001b[0m rand_core v0.9.3\n",
            "\u001b[1m\u001b[32m  Downloaded\u001b[0m quote v1.0.40\n",
            "\u001b[1m\u001b[32m  Downloaded\u001b[0m clap_derive v4.5.41\n",
            "\u001b[1m\u001b[32m  Downloaded\u001b[0m syn v2.0.104\n",
            "\u001b[1m\u001b[32m  Downloaded\u001b[0m cfg-if v1.0.1\n",
            "\u001b[1m\u001b[32m  Downloaded\u001b[0m qrcode v0.14.1\n",
            "\u001b[1m\u001b[32m  Downloaded\u001b[0m nix v0.30.1\n",
            "\u001b[1m\u001b[32m  Downloaded\u001b[0m neli-proc-macros v0.1.4\n",
            "\u001b[1m\u001b[32m  Downloaded\u001b[0m local-ip-address v0.6.5\n",
            "\u001b[1m\u001b[32m  Downloaded\u001b[0m colorchoice v1.0.4\n",
            "\u001b[1m\u001b[32m  Downloaded\u001b[0m clap_lex v0.7.5\n",
            "\u001b[1m\u001b[32m  Downloaded\u001b[0m unicode-ident v1.0.18\n",
            "\u001b[1m\u001b[32m  Downloaded\u001b[0m thiserror v2.0.12\n",
            "\u001b[1m\u001b[32m  Downloaded\u001b[0m ppv-lite86 v0.2.21\n",
            "\u001b[1m\u001b[32m  Downloaded\u001b[0m log v0.4.27\n",
            "\u001b[1m\u001b[32m  Downloaded\u001b[0m image v0.25.6\n",
            "\u001b[1m\u001b[32m  Downloaded\u001b[0m ctrlc v3.4.7\n",
            "\u001b[1m\u001b[32m  Downloaded\u001b[0m colored v3.0.0\n",
            "\u001b[1m\u001b[32m  Downloaded\u001b[0m cfg_aliases v0.2.1\n",
            "\u001b[1m\u001b[32m  Downloaded\u001b[0m autocfg v1.4.0\n",
            "\u001b[1m\u001b[32m  Downloaded\u001b[0m figlet-rs v0.1.5\n",
            "\u001b[1m\u001b[32m  Downloaded\u001b[0m either v1.15.0\n",
            "\u001b[1m\u001b[32m  Downloaded\u001b[0m byteorder-lite v0.1.0\n",
            "\u001b[1m\u001b[32m  Downloaded\u001b[0m bitflags v2.9.1\n",
            "\u001b[1m\u001b[32m  Downloaded\u001b[0m anstyle-query v1.1.3\n",
            "\u001b[1m\u001b[32m  Downloaded\u001b[0m anstyle-parse v0.2.7\n",
            "\u001b[1m\u001b[32m  Downloaded\u001b[0m anstyle v1.0.11\n",
            "\u001b[1m\u001b[32m  Downloaded\u001b[0m heck v0.5.0\n",
            "\u001b[1m\u001b[32m  Downloaded\u001b[0m getrandom v0.3.3\n",
            "\u001b[1m\u001b[32m  Downloaded\u001b[0m ascii v1.1.0\n",
            "\u001b[1m\u001b[32m  Downloaded\u001b[0m anstream v0.6.19\n",
            "\u001b[1m\u001b[32m  Downloaded\u001b[0m libc v0.2.174\n",
            "\u001b[1m\u001b[32m   Compiling\u001b[0m proc-macro2 v1.0.95\n",
            "\u001b[1m\u001b[32m   Compiling\u001b[0m unicode-ident v1.0.18\n",
            "\u001b[1m\u001b[32m   Compiling\u001b[0m libc v0.2.174\n",
            "\u001b[1m\u001b[32m   Compiling\u001b[0m quote v1.0.40\n",
            "\u001b[1m\u001b[32m   Compiling\u001b[0m syn v2.0.104\n",
            "\u001b[1m\u001b[32m   Compiling\u001b[0m cfg-if v1.0.1\n",
            "\u001b[1m\u001b[32m   Compiling\u001b[0m zerocopy v0.8.26\n",
            "\u001b[1m\u001b[32m   Compiling\u001b[0m autocfg v1.4.0\n",
            "\u001b[1m\u001b[32m   Compiling\u001b[0m serde v1.0.219\n",
            "\u001b[1m\u001b[32m   Compiling\u001b[0m getrandom v0.3.3\n",
            "\u001b[1m\u001b[32m   Compiling\u001b[0m syn v1.0.109\n",
            "\u001b[1m\u001b[32m   Compiling\u001b[0m num-traits v0.2.19\n",
            "\u001b[1m\u001b[32m   Compiling\u001b[0m utf8parse v0.2.2\n",
            "\u001b[1m\u001b[32m   Compiling\u001b[0m cfg_aliases v0.2.1\n",
            "\u001b[1m\u001b[32m   Compiling\u001b[0m nix v0.30.1\n",
            "\u001b[1m\u001b[32m   Compiling\u001b[0m anstyle-parse v0.2.7\n",
            "\u001b[1m\u001b[32m   Compiling\u001b[0m serde_derive v1.0.219\n",
            "\u001b[1m\u001b[32m   Compiling\u001b[0m anstyle v1.0.11\n",
            "\u001b[1m\u001b[32m   Compiling\u001b[0m is_terminal_polyfill v1.70.1\n",
            "\u001b[1m\u001b[32m   Compiling\u001b[0m log v0.4.27\n",
            "\u001b[1m\u001b[32m   Compiling\u001b[0m thiserror v2.0.12\n",
            "\u001b[1m\u001b[32m   Compiling\u001b[0m colorchoice v1.0.4\n",
            "\u001b[1m\u001b[32m   Compiling\u001b[0m anstyle-query v1.1.3\n",
            "\u001b[1m\u001b[32m   Compiling\u001b[0m either v1.15.0\n",
            "\u001b[1m\u001b[32m   Compiling\u001b[0m anstream v0.6.19\n",
            "\u001b[1m\u001b[32m   Compiling\u001b[0m neli-proc-macros v0.1.4\n",
            "\u001b[1m\u001b[32m   Compiling\u001b[0m rand_core v0.9.3\n",
            "\u001b[1m\u001b[32m   Compiling\u001b[0m ppv-lite86 v0.2.21\n",
            "\u001b[1m\u001b[32m   Compiling\u001b[0m thiserror-impl v2.0.12\n",
            "\u001b[1m\u001b[32m   Compiling\u001b[0m strsim v0.11.1\n",
            "\u001b[1m\u001b[32m   Compiling\u001b[0m bitflags v2.9.1\n",
            "\u001b[1m\u001b[32m   Compiling\u001b[0m bytemuck v1.23.1\n",
            "\u001b[1m\u001b[32m   Compiling\u001b[0m byteorder-lite v0.1.0\n",
            "\u001b[1m\u001b[32m   Compiling\u001b[0m byteorder v1.5.0\n",
            "\u001b[1m\u001b[32m   Compiling\u001b[0m clap_lex v0.7.5\n",
            "\u001b[1m\u001b[32m   Compiling\u001b[0m heck v0.5.0\n",
            "\u001b[1m\u001b[32m   Compiling\u001b[0m clap_derive v4.5.41\n",
            "\u001b[1m\u001b[32m   Compiling\u001b[0m clap_builder v4.5.42\n",
            "\u001b[1m\u001b[32m   Compiling\u001b[0m image v0.25.6\n",
            "\u001b[1m\u001b[32m   Compiling\u001b[0m neli v0.6.5\n",
            "\u001b[1m\u001b[32m   Compiling\u001b[0m rand_chacha v0.9.0\n",
            "\u001b[1m\u001b[32m   Compiling\u001b[0m httpdate v1.0.3\n",
            "\u001b[1m\u001b[32m   Compiling\u001b[0m chunked_transfer v1.5.0\n",
            "\u001b[1m\u001b[32m   Compiling\u001b[0m wormhole v1.0.0 (/content/wormhole)\n",
            "\u001b[1m\u001b[32m   Compiling\u001b[0m ascii v1.1.0\n",
            "\u001b[1m\u001b[32m   Compiling\u001b[0m tiny_http v0.12.0\n",
            "\u001b[1m\u001b[32m   Compiling\u001b[0m rand v0.9.2\n",
            "\u001b[1m\u001b[32m   Compiling\u001b[0m ctrlc v3.4.7\n",
            "\u001b[1m\u001b[32m   Compiling\u001b[0m local-ip-address v0.6.5\n",
            "\u001b[1m\u001b[32m   Compiling\u001b[0m qrcode v0.14.1\n",
            "\u001b[1m\u001b[32m   Compiling\u001b[0m clap v4.5.42\n",
            "\u001b[1m\u001b[32m   Compiling\u001b[0m figlet-rs v0.1.5\n",
            "\u001b[1m\u001b[32m   Compiling\u001b[0m colored v3.0.0\n",
            "\u001b[1m\u001b[32m    Finished\u001b[0m `release` profile [optimized] target(s) in 1m 19s\n"
          ]
        }
      ]
    }
  ]
}